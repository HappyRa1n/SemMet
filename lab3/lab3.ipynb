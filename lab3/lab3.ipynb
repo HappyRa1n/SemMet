{
 "cells": [
  {
   "cell_type": "code",
   "execution_count": 25,
   "id": "eace34d7",
   "metadata": {},
   "outputs": [
    {
     "name": "stdout",
     "output_type": "stream",
     "text": [
      "hi\n"
     ]
    }
   ],
   "source": [
    "print(\"hi\")"
   ]
  },
  {
   "cell_type": "code",
   "execution_count": 26,
   "id": "72fe14a6",
   "metadata": {},
   "outputs": [],
   "source": [
    "from pprint import pprint\n",
    "import requests"
   ]
  },
  {
   "cell_type": "code",
   "execution_count": 27,
   "id": "dece03fa",
   "metadata": {},
   "outputs": [],
   "source": [
    "from bs4 import BeautifulSoup as Soup"
   ]
  },
  {
   "cell_type": "code",
   "execution_count": 28,
   "id": "e64e8924",
   "metadata": {},
   "outputs": [],
   "source": [
    "url1=\"https://ru.wikipedia.org/w/index.php?title=HTML&action=history&offset=&limit=200\""
   ]
  },
  {
   "cell_type": "code",
   "execution_count": 29,
   "id": "c2b36311",
   "metadata": {},
   "outputs": [],
   "source": [
    "from collections import Counter"
   ]
  },
  {
   "cell_type": "code",
   "execution_count": 30,
   "id": "827a9bd9",
   "metadata": {},
   "outputs": [
    {
     "name": "stdout",
     "output_type": "stream",
     "text": [
      "200\n",
      "ID not found\n",
      "Russia\n",
      "ID not found\n",
      "Tajikistan\n",
      "ID not found\n",
      "Russia\n",
      "ID not found\n",
      "ID not found\n",
      "Russia\n",
      "Russia\n",
      "Russia\n",
      "ID not found\n",
      "Russia\n",
      "ID not found\n",
      "Russia\n",
      "ID not found\n",
      "ID not found\n",
      "Kyrgyzstan\n",
      "Russia\n",
      "Russia\n",
      "Russia\n",
      "ID not found\n",
      "ID not found\n",
      "ID not found\n",
      "ID not found\n",
      "Kyrgyzstan\n",
      "Ukraine\n",
      "Ukraine\n",
      "ID not found\n",
      "Russia\n",
      "ID not found\n",
      "Kazakhstan\n",
      "ID not found\n",
      "Ukraine\n",
      "ID not found\n",
      "Kyrgyzstan\n",
      "Kyrgyzstan\n",
      "ID not found\n",
      "Russia\n",
      "ID not found\n",
      "Russia\n",
      "ID not found\n",
      "ID not found\n",
      "Russia\n",
      "Russia\n",
      "Russia\n",
      "Russia\n",
      "Russia\n",
      "Russia\n",
      "Russia\n",
      "Russia\n",
      "ID not found\n",
      "Russia\n",
      "Russia\n",
      "ID not found\n",
      "ID not found\n",
      "Uzbekistan\n",
      "Russia\n",
      "Russia\n",
      "ID not found\n",
      "Kazakhstan\n",
      "ID not found\n",
      "Russia\n",
      "ID not found\n",
      "Russia\n",
      "Russia\n",
      "Ukraine\n",
      "Ukraine\n",
      "ID not found\n",
      "ID not found\n",
      "Russia\n",
      "ID not found\n",
      "Kazakhstan\n",
      "Kazakhstan\n",
      "Kazakhstan\n",
      "Kazakhstan\n",
      "Kazakhstan\n",
      "Kazakhstan\n",
      "ID not found\n",
      "ID not found\n",
      "Russia\n",
      "Russia\n",
      "Russia\n",
      "Armenia\n",
      "Armenia\n",
      "Ukraine\n",
      "ID not found\n",
      "Turkmenistan\n",
      "ID not found\n",
      "Tajikistan\n",
      "ID not found\n",
      "Ukraine\n",
      "ID not found\n",
      "Russia\n",
      "ID not found\n",
      "ID not found\n",
      "Russia\n",
      "ID not found\n",
      "Uzbekistan\n",
      "ID not found\n",
      "ID not found\n",
      "Ukraine\n",
      "Uzbekistan\n",
      "ID not found\n",
      "Russia\n",
      "ID not found\n",
      "Kazakhstan\n",
      "ID not found\n",
      "Russia\n",
      "ID not found\n",
      "Russia\n",
      "Russia\n",
      "ID not found\n",
      "Kazakhstan\n",
      "Kazakhstan\n",
      "ID not found\n",
      "ID not found\n",
      "Kazakhstan\n",
      "ID not found\n",
      "Kazakhstan\n",
      "ID not found\n",
      "ID not found\n",
      "ID not found\n",
      "Kazakhstan\n",
      "Kazakhstan\n",
      "Kazakhstan\n",
      "Russia\n",
      "ID not found\n",
      "Poland\n",
      "Russia\n",
      "Russia\n",
      "ID not found\n",
      "Uzbekistan\n",
      "Uzbekistan\n",
      "Poland\n",
      "Belarus\n",
      "ID not found\n",
      "Uzbekistan\n",
      "Uzbekistan\n",
      "Uzbekistan\n",
      "ID not found\n",
      "Russia\n",
      "Russia\n",
      "Russia\n",
      "ID not found\n",
      "Russia\n",
      "Russia\n",
      "Russia\n",
      "Russia\n",
      "Russia\n",
      "Russia\n",
      "ID not found\n",
      "ID not found\n",
      "Uzbekistan\n",
      "ID not found\n",
      "Uzbekistan\n",
      "ID not found\n",
      "Uzbekistan\n",
      "Uzbekistan\n",
      "Russia\n",
      "ID not found\n",
      "Ukraine\n",
      "ID not found\n",
      "Uzbekistan\n",
      "Russia\n",
      "ID not found\n",
      "Russia\n",
      "ID not found\n",
      "Russia\n",
      "ID not found\n",
      "Russia\n",
      "ID not found\n",
      "ID not found\n",
      "ID not found\n",
      "ID not found\n",
      "ID not found\n",
      "Russia\n",
      "Russia\n",
      "ID not found\n",
      "Kazakhstan\n",
      "Kazakhstan\n",
      "ID not found\n",
      "Russia\n",
      "ID not found\n",
      "Russia\n",
      "Poland\n",
      "ID not found\n",
      "Russia\n",
      "ID not found\n",
      "Russia\n",
      "ID not found\n",
      "ID not found\n",
      "ID not found\n",
      "ID not found\n",
      "ID not found\n",
      "ID not found\n",
      "ID not found\n",
      "ID not found\n",
      "ID not found\n",
      "ID not found\n",
      "Counter({'Russia': 61, 'Kazakhstan': 18, 'Uzbekistan': 13, 'Ukraine': 9, 'Kyrgyzstan': 4, 'Poland': 3, 'Tajikistan': 2, 'Armenia': 2, 'Turkmenistan': 1, 'Belarus': 1})\n"
     ]
    }
   ],
   "source": [
    "\n",
    "listC=[]#список стран\n",
    "source = requests.get(url1)\n",
    "soup=Soup(source.text)\n",
    "\n",
    "data=soup.find_all(class_=\"history-user\")\n",
    "data=soup.find_all('bdi')\n",
    "print(len(data))\n",
    "for i in data:\n",
    "    try:\n",
    "        url = \"https://ipwho.is/\"+str(i)[5:][:-6]\n",
    "        request=requests.get(url)\n",
    "        obj=request.json()\n",
    "        print(obj[\"country\"])#obj[\"country_name\"])\n",
    "        listC.append(obj[\"country\"])\n",
    "    except:\n",
    "        print(\"ID not found\")\n",
    "print(Counter(listC))"
   ]
  },
  {
   "cell_type": "code",
   "execution_count": 31,
   "id": "b10b5eab",
   "metadata": {},
   "outputs": [
    {
     "name": "stdout",
     "output_type": "stream",
     "text": [
      "Russia  -  61\n",
      "Kazakhstan  -  18\n",
      "Uzbekistan  -  13\n",
      "Ukraine  -  9\n",
      "Kyrgyzstan  -  4\n",
      "Poland  -  3\n",
      "Tajikistan  -  2\n",
      "Armenia  -  2\n",
      "Turkmenistan  -  1\n",
      "Belarus  -  1\n"
     ]
    }
   ],
   "source": [
    "slist=Counter(listC).most_common()\n",
    "с=0\n",
    "for i,k in slist:\n",
    "    с+=1\n",
    "    print(i,\" - \",k)"
   ]
  },
  {
   "cell_type": "code",
   "execution_count": 32,
   "id": "daa6f4c4",
   "metadata": {},
   "outputs": [
    {
     "name": "stdout",
     "output_type": "stream",
     "text": [
      "task2\n"
     ]
    }
   ],
   "source": [
    "print(\"task2\")"
   ]
  },
  {
   "cell_type": "code",
   "execution_count": 33,
   "id": "2e81277f",
   "metadata": {},
   "outputs": [],
   "source": [
    "area=\"2\"#Питер\n",
    "work=\"7\"\n",
    "count=0\n",
    "zp=0\n",
    "ural = 'https://api.hh.ru/vacancies?industry='+str(work)+'&only_with_salary=true&area='+str(area)+'&per_page=50&page=0'\n",
    "req = requests.get(ural)\n",
    "city=req.json()[\"items\"][0][\"area\"][\"name\"]\n",
    "\n",
    "for j in range(0,int(requesta.json()[\"pages\"])):  #для перебора по всем страницам\n",
    "    url = 'https://api.hh.ru/vacancies?industry='+str(v)+'&only_with_salary=true&area='+str(t)+'&per_page=50&page='+str(j)\n",
    "    request = requests.get(url)\n",
    "    for i in request.json()[\"items\"]:\n",
    "        count+=1\n",
    "        zpMin=i[\"salary\"][\"from\"]\n",
    "        zpMax=i[\"salary\"][\"to\"]\n",
    "        if(zpMin==None and zpMax!=None):\n",
    "            zp+=zpMax\n",
    "        elif(zpMin!=None and zpMax==None):\n",
    "            zp+=zpMin\n",
    "        elif(zpMin!=None and zpMax!=None):\n",
    "            zp+=(zpMin+zpMax)/2\n",
    "money=zp/count\n",
    "\n"
   ]
  },
  {
   "cell_type": "code",
   "execution_count": 34,
   "id": "3cafa0f6",
   "metadata": {},
   "outputs": [
    {
     "name": "stdout",
     "output_type": "stream",
     "text": [
      "94295.7950075643  Питер\n"
     ]
    }
   ],
   "source": [
    "print(money, \" Питер\")"
   ]
  },
  {
   "cell_type": "code",
   "execution_count": null,
   "id": "313831e6",
   "metadata": {},
   "outputs": [],
   "source": []
  }
 ],
 "metadata": {
  "kernelspec": {
   "display_name": "labenv",
   "language": "python",
   "name": "labenv"
  },
  "language_info": {
   "codemirror_mode": {
    "name": "ipython",
    "version": 3
   },
   "file_extension": ".py",
   "mimetype": "text/x-python",
   "name": "python",
   "nbconvert_exporter": "python",
   "pygments_lexer": "ipython3",
   "version": "3.6.13"
  }
 },
 "nbformat": 4,
 "nbformat_minor": 5
}
