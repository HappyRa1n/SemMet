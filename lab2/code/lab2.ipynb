{
 "cells": [
  {
   "cell_type": "code",
   "execution_count": 132,
   "id": "694a7dc9",
   "metadata": {},
   "outputs": [],
   "source": [
    "import lxml.etree as ET"
   ]
  },
  {
   "cell_type": "code",
   "execution_count": 133,
   "id": "0ff8926b",
   "metadata": {},
   "outputs": [],
   "source": [
    "# Load XML document\n",
    "xml_doc = ET.parse(\"schedule.xml\")"
   ]
  },
  {
   "cell_type": "code",
   "execution_count": 134,
   "id": "6be0f52b",
   "metadata": {},
   "outputs": [
    {
     "name": "stdout",
     "output_type": "stream",
     "text": [
      "XML документ соответствует схеме.\n"
     ]
    }
   ],
   "source": [
    "from lxml import etree\n",
    "# грузим XML схему\n",
    "schema = etree.XMLSchema(file='xml_schedule.xsd')\n",
    "# Валидация\n",
    "is_valid = schema.validate(xml_doc)\n",
    "\n",
    "if is_valid:\n",
    "    print(\"XML документ соответствует схеме.\")\n",
    "else:\n",
    "    print(\"XML документ не соответствует схеме.\")\n",
    "    print(schema.error_log)"
   ]
  },
  {
   "cell_type": "code",
   "execution_count": 135,
   "id": "a181dc70",
   "metadata": {},
   "outputs": [
    {
     "name": "stdout",
     "output_type": "stream",
     "text": [
      "XML-документ соответствует DTD.\n"
     ]
    }
   ],
   "source": [
    "# грузим DTD\n",
    "dtd = etree.DTD('schedule.dtd')\n",
    "\n",
    "is_valid = dtd.validate(xml_doc)\n",
    "\n",
    "if is_valid:\n",
    "    print(\"XML-документ соответствует DTD.\")\n",
    "else:\n",
    "    print(\"XML-документ не соответствует DTD:\")\n",
    "    for error in dtd.error_log:\n",
    "        print(error)"
   ]
  },
  {
   "cell_type": "code",
   "execution_count": 136,
   "id": "2ec69963",
   "metadata": {},
   "outputs": [],
   "source": [
    "xslt = ET.parse(\"schedule_to_txt.xslt\")\n",
    "transform = ET.XSLT(xslt)\n",
    "\n",
    "result_txt = transform(xml_doc)"
   ]
  },
  {
   "cell_type": "code",
   "execution_count": 137,
   "id": "e419974b",
   "metadata": {},
   "outputs": [
    {
     "name": "stdout",
     "output_type": "stream",
     "text": [
      "<?xml version=\"1.0\"?>\n",
      "Понедельник:\n",
      "Математический анализ, 09:40 - 11:10\n",
      "Операционные системы, 11:30 - 13:00\n",
      "Операционные системы, 13:30 - 15:00\n",
      "\n",
      "Вторник:\n",
      "История, 09:40 - 11:10\n",
      "\n",
      "Среда:\n",
      "Психология, 09:40 - 11:10\n",
      "Психология, 13:30 - 15:00\n",
      "\n",
      "Четверг:\n",
      "Параллельное программироваие, 09:40 - 11:10\n",
      "Параллельное программироваие, 11:30 - 13:00\n",
      "\n",
      "Пятница:\n",
      "python для анализа данных, 09:40 - 11:10\n",
      "\n",
      "Пятница:\n",
      "python для анализа данных, 09:40 - 11:10\n",
      "\n",
      "\n",
      "\n"
     ]
    }
   ],
   "source": [
    "print(result_txt)"
   ]
  },
  {
   "cell_type": "code",
   "execution_count": 138,
   "id": "86d7e8e3",
   "metadata": {},
   "outputs": [],
   "source": [
    "with open(\"schedule.txt\", \"w\") as txt_file:\n",
    "    txt_file.write(str(result_txt))"
   ]
  },
  {
   "cell_type": "code",
   "execution_count": 139,
   "id": "14cbe6b3",
   "metadata": {},
   "outputs": [],
   "source": [
    "xslt_html = ET.parse(\"schedule_to_html.xslt\")\n",
    "transform_html = ET.XSLT(xslt_html)"
   ]
  },
  {
   "cell_type": "code",
   "execution_count": 140,
   "id": "7d5af256",
   "metadata": {},
   "outputs": [],
   "source": [
    "# Apply transformation to html\n",
    "result_html = transform_html(xml_doc)\n",
    "\n",
    "# сохраняю\n",
    "with open(\"schedule.html\", \"w\", encoding=\"utf-8\") as html_file:\n",
    "    html_file.write(str(result_html))"
   ]
  },
  {
   "cell_type": "code",
   "execution_count": 142,
   "id": "a7dd8c19",
   "metadata": {},
   "outputs": [
    {
     "name": "stdout",
     "output_type": "stream",
     "text": [
      "All lessons on this week: ['Математический анализ', 'Операционные системы', 'Операционные системы', 'История', 'Психология', 'Психология', 'Параллельное программироваие', 'Параллельное программироваие', 'python для анализа данных', 'python для анализа данных']\n",
      "All classrooms: ['201', '103', '512', '102']\n",
      "Practical lessons on this week: ['Операционные системы', 'Психология', 'python для анализа данных']\n",
      "Lectures in classroom 102: ['Математический анализ', 'История', 'Параллельное программироваие', 'python для анализа данных']\n",
      "Instructors in classroom 102: ['Васильев А.А.']\n",
      "Last lesson per day: ['Операционные системы', 'История', 'Психология', 'Параллельное программироваие', 'python для анализа данных', 'python для анализа данных']\n",
      "Total number of lessons this week: 10.0\n"
     ]
    }
   ],
   "source": [
    "# a. Получить все занятия на данной неделе\n",
    "all_lessons = xml_doc.xpath(\"//day/lesson/subject\")\n",
    "all_lessons=[lesson.text for lesson in all_lessons]\n",
    "\n",
    "# b. Получить все аудитории, в которых проходят занятия\n",
    "classrooms = xml_doc.xpath(\"//classroom\")\n",
    "all_classrooms =  list(set([classroom.text for classroom in classrooms]))#list(set(classrooms))\n",
    "\n",
    "# c. Получить все практические занятия на неделе\n",
    "practical_lessons = xml_doc.xpath(\"//lesson[type='практика']/subject\")\n",
    "practical_lessons =[p.text for p in practical_lessons]\n",
    "\n",
    "# d. Получить все лекции, проводимые в указанной аудитории\n",
    "lectures_in_classroom_102 = xml_doc.xpath(\"//lesson[type='лекция' and classroom='102']/subject\")\n",
    "lectures_in_classroom_102=[tmp.text for tmp in lectures_in_classroom_102]\n",
    "\n",
    "# e. Получить список всех преподавателей, проводящих практики в указанной аудитории\n",
    "instructors_xpath = \"//lesson[type='практика' and classroom='102']/instructor[not(. = preceding-sibling::instructor)]\"\n",
    "instructors_in_classroom_102 = xml_doc.xpath(instructors_xpath)\n",
    "instructors_in_classroom_102=list(set([tmp.text for tmp in instructors_in_classroom_102]))\n",
    "\n",
    "\n",
    "\n",
    "# f. Получить последнее занятие для каждого дня недели\n",
    "last_lessons_per_day = xml_doc.xpath(\"//day/lesson[last()]/subject\")\n",
    "last_lessons_per_day=[tmp.text for tmp in last_lessons_per_day]\n",
    "\n",
    "# g. Получить общее количество занятий за всю неделю\n",
    "total_lessons = xml_doc.xpath(\"count(//lesson)\")\n",
    "\n",
    "# Print or further process results as needed\n",
    "print(\"All lessons on this week:\", all_lessons)\n",
    "print(\"All classrooms:\", all_classrooms)\n",
    "print(\"Practical lessons on this week:\", practical_lessons)\n",
    "print(\"Lectures in classroom 102:\", lectures_in_classroom_102)\n",
    "print(\"Instructors in classroom 102:\", instructors_in_classroom_102)\n",
    "print(\"Last lesson per day:\", last_lessons_per_day)\n",
    "print(\"Total number of lessons this week:\", total_lessons)"
   ]
  },
  {
   "cell_type": "code",
   "execution_count": null,
   "id": "2a49ae07",
   "metadata": {},
   "outputs": [],
   "source": []
  },
  {
   "cell_type": "code",
   "execution_count": null,
   "id": "57cc03ce",
   "metadata": {},
   "outputs": [],
   "source": []
  }
 ],
 "metadata": {
  "kernelspec": {
   "display_name": "labenv",
   "language": "python",
   "name": "labenv"
  }
 },
 "nbformat": 4,
 "nbformat_minor": 5
}
